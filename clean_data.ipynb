{
 "cells": [
  {
   "cell_type": "markdown",
   "metadata": {},
   "source": [
    "# Final Project Clean Data"
   ]
  },
  {
   "cell_type": "code",
   "execution_count": 2,
   "metadata": {},
   "outputs": [],
   "source": [
    "# import spark\n",
    "from pyspark.sql import Row, SparkSession\n",
    "from pyspark.sql.functions import *\n",
    "\n",
    "# Create or get SparkSession\n",
    "spark = SparkSession.builder.appName(\"Clean Data\").getOrCreate()"
   ]
  },
  {
   "cell_type": "markdown",
   "metadata": {},
   "source": [
    "### Read Dataset, Drop Columns, and Rename Columns"
   ]
  },
  {
   "cell_type": "code",
   "execution_count": 3,
   "metadata": {},
   "outputs": [],
   "source": [
    "# Create dataframe from \"NYPD_Complaint_Data_Historic.csv\"\n",
    "df = spark.read.csv(\"NYPD_Complaint_Data_Historic.csv\", inferSchema=True, header=True).cache()"
   ]
  },
  {
   "cell_type": "code",
   "execution_count": 4,
   "metadata": {},
   "outputs": [
    {
     "name": "stdout",
     "output_type": "stream",
     "text": [
      "root\n",
      " |-- CMPLNT_NUM: integer (nullable = true)\n",
      " |-- CMPLNT_FR_DT: string (nullable = true)\n",
      " |-- CMPLNT_FR_TM: string (nullable = true)\n",
      " |-- CMPLNT_TO_DT: string (nullable = true)\n",
      " |-- CMPLNT_TO_TM: string (nullable = true)\n",
      " |-- ADDR_PCT_CD: integer (nullable = true)\n",
      " |-- RPT_DT: string (nullable = true)\n",
      " |-- KY_CD: integer (nullable = true)\n",
      " |-- OFNS_DESC: string (nullable = true)\n",
      " |-- PD_CD: integer (nullable = true)\n",
      " |-- PD_DESC: string (nullable = true)\n",
      " |-- CRM_ATPT_CPTD_CD: string (nullable = true)\n",
      " |-- LAW_CAT_CD: string (nullable = true)\n",
      " |-- BORO_NM: string (nullable = true)\n",
      " |-- LOC_OF_OCCUR_DESC: string (nullable = true)\n",
      " |-- PREM_TYP_DESC: string (nullable = true)\n",
      " |-- JURIS_DESC: string (nullable = true)\n",
      " |-- JURISDICTION_CODE: integer (nullable = true)\n",
      " |-- PARKS_NM: string (nullable = true)\n",
      " |-- HADEVELOPT: string (nullable = true)\n",
      " |-- HOUSING_PSA: string (nullable = true)\n",
      " |-- X_COORD_CD: integer (nullable = true)\n",
      " |-- Y_COORD_CD: integer (nullable = true)\n",
      " |-- SUSP_AGE_GROUP: string (nullable = true)\n",
      " |-- SUSP_RACE: string (nullable = true)\n",
      " |-- SUSP_SEX: string (nullable = true)\n",
      " |-- TRANSIT_DISTRICT: integer (nullable = true)\n",
      " |-- Latitude: double (nullable = true)\n",
      " |-- Longitude: double (nullable = true)\n",
      " |-- Lat_Lon: string (nullable = true)\n",
      " |-- PATROL_BORO: string (nullable = true)\n",
      " |-- STATION_NAME: string (nullable = true)\n",
      " |-- VIC_AGE_GROUP: string (nullable = true)\n",
      " |-- VIC_RACE: string (nullable = true)\n",
      " |-- VIC_SEX: string (nullable = true)\n",
      "\n"
     ]
    }
   ],
   "source": [
    "df.printSchema()"
   ]
  },
  {
   "cell_type": "code",
   "execution_count": 3,
   "metadata": {},
   "outputs": [],
   "source": [
    "# Drop unnecessary columns\n",
    "df = df.drop(\"PARKS_NM\", \"VIC_AGE_GROUP\", \"VIC_RACE\", \"VIC_SEX\", \"STATION_NAME\", \"PATROL_BORO\", \"TRANSIT_DISTRICT\", \n",
    "             \"SUSP_SEX\", \"SUSP_RACE\", \"SUSP_AGE_GROUP\", \"X_COORD_CD\", \"Y_COORD_CD\", \"HOUSING_PSA\", \"HADEVELOPT\", \n",
    "             \"JURISDICTION_CODE\", \"JURIS_DESC\", \"JURIS_DESC\", \"RPT_DT\", \"JURIS_DESC\", \"PREM_TYP_DESC\",\n",
    "             \"PD_CD\", \"PD_DESC\", \"LOC_OF_OCCUR_DESC\", \"CMPLNT_TO_TM\", \"CMPLNT_TO_DT\")"
   ]
  },
  {
   "cell_type": "code",
   "execution_count": 4,
   "metadata": {},
   "outputs": [],
   "source": [
    "# Rename columns\n",
    "df = df.toDF('Complaint_ID', 'Start_Date','Start_Time', 'Neighborhood', 'Offence_Code', 'Offence_Type',\n",
    "        'Status','Offence_Level','Borough','Latitude','Longitude','Lat_Lon')"
   ]
  },
  {
   "cell_type": "code",
   "execution_count": 5,
   "metadata": {},
   "outputs": [],
   "source": [
    "# Conver start date and end date to timestamp\n",
    "df = df.withColumn('Start_Date', to_timestamp('Start_Date', 'MM/dd/yyyy'))\n",
    "df = df.filter(df['Start_Date'] >= lit('2006-01-01 00:00:00')).filter(df['Start_Date'] <= lit('2018-01-01 00:00:00'))"
   ]
  },
  {
   "cell_type": "markdown",
   "metadata": {},
   "source": [
    "### Save the DataFrame"
   ]
  },
  {
   "cell_type": "code",
   "execution_count": 7,
   "metadata": {
    "scrolled": false
   },
   "outputs": [],
   "source": [
    "# The DataFrame is saved in data/NYC_Crime_Cleaned.csv/ as a csv file\n",
    "df.coalesce(1).write.option(\"header\", \"true\").csv('data/NYC_Crime_Cleaned.csv')"
   ]
  }
 ],
 "metadata": {
  "kernelspec": {
   "display_name": "Python 3",
   "language": "python",
   "name": "python3"
  },
  "language_info": {
   "codemirror_mode": {
    "name": "ipython",
    "version": 3
   },
   "file_extension": ".py",
   "mimetype": "text/x-python",
   "name": "python",
   "nbconvert_exporter": "python",
   "pygments_lexer": "ipython3",
   "version": "3.7.3"
  }
 },
 "nbformat": 4,
 "nbformat_minor": 2
}
